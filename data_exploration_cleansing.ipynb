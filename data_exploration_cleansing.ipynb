{
 "cells": [
  {
   "cell_type": "code",
   "execution_count": 1,
   "id": "69b000ee",
   "metadata": {},
   "outputs": [],
   "source": [
    "import pandas as pd\n",
    "import json\n",
    "\n",
    "def parse_json_to_dataframe(file_path):\n",
    "    with open(file_path, 'r') as json_file:\n",
    "        data = json.load(json_file)\n",
    "        \n",
    "    rows = []\n",
    "    for entry in data:\n",
    "        image_info = entry[\"image\"]\n",
    "        image_pathname = image_info[\"pathname\"]\n",
    "        image_height = image_info[\"shape\"][\"r\"]\n",
    "        image_width = image_info[\"shape\"][\"c\"]\n",
    "        \n",
    "        for obj in entry[\"objects\"]:\n",
    "            bounding_box = obj[\"bounding_box\"]\n",
    "            xmin = bounding_box[\"minimum\"][\"c\"]\n",
    "            ymin = bounding_box[\"minimum\"][\"r\"]\n",
    "            xmax = bounding_box[\"maximum\"][\"c\"]\n",
    "            ymax = bounding_box[\"maximum\"][\"r\"]\n",
    "            label = obj[\"category\"]\n",
    "            \n",
    "            boxes = [xmin, ymin, xmax, ymax]\n",
    "            \n",
    "            rows.append([image_pathname, image_height, image_width, boxes, label])\n",
    "    \n",
    "    df = pd.DataFrame(rows, columns=['pathname', 'height', 'width', 'boxes', 'label'])\n",
    "    return df\n"
   ]
  },
  {
   "cell_type": "code",
   "execution_count": 2,
   "id": "2ae7a154",
   "metadata": {},
   "outputs": [
    {
     "data": {
      "text/html": [
       "<div>\n",
       "<style scoped>\n",
       "    .dataframe tbody tr th:only-of-type {\n",
       "        vertical-align: middle;\n",
       "    }\n",
       "\n",
       "    .dataframe tbody tr th {\n",
       "        vertical-align: top;\n",
       "    }\n",
       "\n",
       "    .dataframe thead th {\n",
       "        text-align: right;\n",
       "    }\n",
       "</style>\n",
       "<table border=\"1\" class=\"dataframe\">\n",
       "  <thead>\n",
       "    <tr style=\"text-align: right;\">\n",
       "      <th></th>\n",
       "      <th>pathname</th>\n",
       "      <th>height</th>\n",
       "      <th>width</th>\n",
       "      <th>boxes</th>\n",
       "      <th>label</th>\n",
       "    </tr>\n",
       "  </thead>\n",
       "  <tbody>\n",
       "    <tr>\n",
       "      <th>0</th>\n",
       "      <td>/images/41be1bd3-0d31-4881-bf1f-3ccdfa21ff12.jpg</td>\n",
       "      <td>1383</td>\n",
       "      <td>1944</td>\n",
       "      <td>[1744, 576, 1883, 708]</td>\n",
       "      <td>red blood cell</td>\n",
       "    </tr>\n",
       "    <tr>\n",
       "      <th>1</th>\n",
       "      <td>/images/41be1bd3-0d31-4881-bf1f-3ccdfa21ff12.jpg</td>\n",
       "      <td>1383</td>\n",
       "      <td>1944</td>\n",
       "      <td>[1249, 863, 1373, 977]</td>\n",
       "      <td>red blood cell</td>\n",
       "    </tr>\n",
       "    <tr>\n",
       "      <th>2</th>\n",
       "      <td>/images/41be1bd3-0d31-4881-bf1f-3ccdfa21ff12.jpg</td>\n",
       "      <td>1383</td>\n",
       "      <td>1944</td>\n",
       "      <td>[1573, 210, 1711, 335]</td>\n",
       "      <td>red blood cell</td>\n",
       "    </tr>\n",
       "    <tr>\n",
       "      <th>3</th>\n",
       "      <td>/images/41be1bd3-0d31-4881-bf1f-3ccdfa21ff12.jpg</td>\n",
       "      <td>1383</td>\n",
       "      <td>1944</td>\n",
       "      <td>[1124, 1017, 1253, 1142]</td>\n",
       "      <td>red blood cell</td>\n",
       "    </tr>\n",
       "    <tr>\n",
       "      <th>4</th>\n",
       "      <td>/images/41be1bd3-0d31-4881-bf1f-3ccdfa21ff12.jpg</td>\n",
       "      <td>1383</td>\n",
       "      <td>1944</td>\n",
       "      <td>[1655, 572, 1763, 695]</td>\n",
       "      <td>red blood cell</td>\n",
       "    </tr>\n",
       "  </tbody>\n",
       "</table>\n",
       "</div>"
      ],
      "text/plain": [
       "                                           pathname  height  width  \\\n",
       "0  /images/41be1bd3-0d31-4881-bf1f-3ccdfa21ff12.jpg    1383   1944   \n",
       "1  /images/41be1bd3-0d31-4881-bf1f-3ccdfa21ff12.jpg    1383   1944   \n",
       "2  /images/41be1bd3-0d31-4881-bf1f-3ccdfa21ff12.jpg    1383   1944   \n",
       "3  /images/41be1bd3-0d31-4881-bf1f-3ccdfa21ff12.jpg    1383   1944   \n",
       "4  /images/41be1bd3-0d31-4881-bf1f-3ccdfa21ff12.jpg    1383   1944   \n",
       "\n",
       "                      boxes           label  \n",
       "0    [1744, 576, 1883, 708]  red blood cell  \n",
       "1    [1249, 863, 1373, 977]  red blood cell  \n",
       "2    [1573, 210, 1711, 335]  red blood cell  \n",
       "3  [1124, 1017, 1253, 1142]  red blood cell  \n",
       "4    [1655, 572, 1763, 695]  red blood cell  "
      ]
     },
     "execution_count": 2,
     "metadata": {},
     "output_type": "execute_result"
    }
   ],
   "source": [
    "json_file_path = r\".\\test.json\"\n",
    "df = parse_json_to_dataframe(json_file_path)\n",
    "df.head()"
   ]
  },
  {
   "cell_type": "code",
   "execution_count": 3,
   "id": "e842de1f",
   "metadata": {},
   "outputs": [
    {
     "name": "stdout",
     "output_type": "stream",
     "text": [
      "<class 'pandas.core.frame.DataFrame'>\n",
      "RangeIndex: 5922 entries, 0 to 5921\n",
      "Data columns (total 5 columns):\n",
      " #   Column    Non-Null Count  Dtype \n",
      "---  ------    --------------  ----- \n",
      " 0   pathname  5922 non-null   object\n",
      " 1   height    5922 non-null   int64 \n",
      " 2   width     5922 non-null   int64 \n",
      " 3   boxes     5922 non-null   object\n",
      " 4   label     5922 non-null   object\n",
      "dtypes: int64(2), object(3)\n",
      "memory usage: 231.5+ KB\n"
     ]
    }
   ],
   "source": [
    "df.info()"
   ]
  },
  {
   "cell_type": "code",
   "execution_count": 4,
   "id": "f7ebb4cb",
   "metadata": {},
   "outputs": [
    {
     "data": {
      "text/plain": [
       "red blood cell    5614\n",
       "ring               169\n",
       "trophozoite        111\n",
       "gametocyte          12\n",
       "schizont            11\n",
       "difficult            5\n",
       "Name: label, dtype: int64"
      ]
     },
     "execution_count": 4,
     "metadata": {},
     "output_type": "execute_result"
    }
   ],
   "source": [
    "df['label'].value_counts()"
   ]
  },
  {
   "cell_type": "code",
   "execution_count": 7,
   "id": "caef8548",
   "metadata": {},
   "outputs": [
    {
     "data": {
      "text/plain": [
       "0"
      ]
     },
     "execution_count": 7,
     "metadata": {},
     "output_type": "execute_result"
    }
   ],
   "source": [
    "def check_boxes_validity(box: list, h, w):\n",
    "    assert type(h) == int, f\"h is {h}\"\n",
    "    assert type(w) == int, f\"w is {w}\"\n",
    "    if isinstance(box, list):\n",
    "        if (box[0] < box[2]) and (box[1] < box[3]):\n",
    "            if (box[2] <= w) and (box[3] <= h):\n",
    "                return True\n",
    "            else:\n",
    "                return False\n",
    "        else:\n",
    "            return False\n",
    "    else:\n",
    "        return False\n",
    "\n",
    "df.loc[:, 'validity'] = df.apply(lambda row: check_boxes_validity(row[3], row[1], row[2]), axis=1)\n",
    "len(df[df['validity'] == False])"
   ]
  },
  {
   "cell_type": "code",
   "execution_count": 8,
   "id": "e58675cd",
   "metadata": {},
   "outputs": [],
   "source": [
    "df.drop(columns=['validity'], inplace=True)"
   ]
  },
  {
   "cell_type": "code",
   "execution_count": 9,
   "id": "64b57c9f",
   "metadata": {},
   "outputs": [],
   "source": [
    "def calculate_bbox_area(bbox):\n",
    "    width = bbox[2] - bbox[0]  # xmax - xmin\n",
    "    height = bbox[3] - bbox[1]  # ymax - ymin\n",
    "    area = width * height\n",
    "    return area\n",
    "\n",
    "df.loc[:, 'area'] = df['boxes'].apply(calculate_bbox_area)"
   ]
  },
  {
   "cell_type": "code",
   "execution_count": 10,
   "id": "4d8b55a9",
   "metadata": {},
   "outputs": [],
   "source": [
    "def to_rbc(label: str):\n",
    "    if label == 'red blood cell':\n",
    "        return 'RBC'\n",
    "    else:\n",
    "        return label\n",
    "    \n",
    "df.loc[:, 'label'] = df['label'].apply(to_rbc)"
   ]
  },
  {
   "cell_type": "code",
   "execution_count": 11,
   "id": "f66fec1d",
   "metadata": {},
   "outputs": [
    {
     "data": {
      "text/plain": [
       "RBC            5614\n",
       "ring            169\n",
       "trophozoite     111\n",
       "gametocyte       12\n",
       "schizont         11\n",
       "difficult         5\n",
       "Name: label, dtype: int64"
      ]
     },
     "execution_count": 11,
     "metadata": {},
     "output_type": "execute_result"
    }
   ],
   "source": [
    "df['label'].value_counts()"
   ]
  },
  {
   "cell_type": "code",
   "execution_count": 12,
   "id": "669d707f",
   "metadata": {},
   "outputs": [],
   "source": [
    "def calculate_bbox_aspect_ratio(bbox):\n",
    "    width = bbox[2] - bbox[0] #xmax - xmin\n",
    "    height = bbox[3] - bbox[1] #ymax - ymin\n",
    "    return height / width\n",
    "\n",
    "df.loc[:, 'aspect_ratio'] = df['boxes'].apply(calculate_bbox_aspect_ratio)"
   ]
  },
  {
   "cell_type": "code",
   "execution_count": 13,
   "id": "8a72e53e",
   "metadata": {},
   "outputs": [
    {
     "data": {
      "image/png": "[encoded data removed]",
      "text/plain": [
       "<Figure size 432x288 with 1 Axes>"
      ]
     },
     "metadata": {
      "needs_background": "light"
     },
     "output_type": "display_data"
    }
   ],
   "source": [
    "import matplotlib.pyplot as plt\n",
    "\n",
    "plt.scatter(df['area'], df['aspect_ratio'])\n",
    "\n",
    "# Set the labels and title\n",
    "plt.xlabel('box area')\n",
    "plt.ylabel('Aspect Ratio (width/height)')\n",
    "plt.title('Box Area vs. Aspect Ratio')\n",
    "\n",
    "# Display the plot\n",
    "plt.show()"
   ]
  },
  {
   "cell_type": "code",
   "execution_count": 14,
   "id": "e521d08e",
   "metadata": {},
   "outputs": [
    {
     "data": {
      "image/png": "[encoded data removed]",
      "text/plain": [
       "<Figure size 864x576 with 1 Axes>"
      ]
     },
     "metadata": {
      "needs_background": "light"
     },
     "output_type": "display_data"
    }
   ],
   "source": [
    "area_counts = df['area'].value_counts()\n",
    "\n",
    "area_counts = area_counts.head(80)\n",
    "\n",
    "# Plot the bar plot with figsize and limit\n",
    "fig, ax = plt.subplots(figsize=(12, 8))\n",
    "area_counts.plot.bar(ax=ax)\n",
    "\n",
    "# Set the labels and title\n",
    "plt.xlabel('area')\n",
    "plt.ylabel('Count')\n",
    "plt.title('frequency of area')\n",
    "\n",
    "# Display the plot\n",
    "plt.show()"
   ]
  },
  {
   "cell_type": "code",
   "execution_count": 15,
   "id": "90d9ca33",
   "metadata": {},
   "outputs": [
    {
     "data": {
      "text/html": [
       "<div>\n",
       "<style scoped>\n",
       "    .dataframe tbody tr th:only-of-type {\n",
       "        vertical-align: middle;\n",
       "    }\n",
       "\n",
       "    .dataframe tbody tr th {\n",
       "        vertical-align: top;\n",
       "    }\n",
       "\n",
       "    .dataframe thead th {\n",
       "        text-align: right;\n",
       "    }\n",
       "</style>\n",
       "<table border=\"1\" class=\"dataframe\">\n",
       "  <thead>\n",
       "    <tr style=\"text-align: right;\">\n",
       "      <th></th>\n",
       "      <th>pathname</th>\n",
       "      <th>width</th>\n",
       "      <th>height</th>\n",
       "      <th>label</th>\n",
       "      <th>boxes</th>\n",
       "      <th>area</th>\n",
       "    </tr>\n",
       "  </thead>\n",
       "  <tbody>\n",
       "    <tr>\n",
       "      <th>0</th>\n",
       "      <td>/images/010961af-b38c-49de-aca0-e3732d73d414.jpg</td>\n",
       "      <td>1944</td>\n",
       "      <td>1383</td>\n",
       "      <td>[RBC, RBC, RBC, RBC, RBC, RBC, RBC, RBC, RBC, ...</td>\n",
       "      <td>[[534, 437, 663, 565], [1227, 863, 1362, 991],...</td>\n",
       "      <td>[16512, 17280, 14399, 17810, 18078, 20010, 180...</td>\n",
       "    </tr>\n",
       "    <tr>\n",
       "      <th>1</th>\n",
       "      <td>/images/0346611b-ea43-45bd-9f16-c6e8086273d2.jpg</td>\n",
       "      <td>1944</td>\n",
       "      <td>1383</td>\n",
       "      <td>[RBC, RBC, RBC, RBC, RBC, RBC, RBC, RBC, RBC, ...</td>\n",
       "      <td>[[1061, 1222, 1186, 1339], [1171, 385, 1309, 5...</td>\n",
       "      <td>[14625, 17250, 17780, 17484, 18318, 13688, 174...</td>\n",
       "    </tr>\n",
       "    <tr>\n",
       "      <th>2</th>\n",
       "      <td>/images/03be08c8-2cf3-4de6-8ac6-5f7817a6a643.jpg</td>\n",
       "      <td>1944</td>\n",
       "      <td>1383</td>\n",
       "      <td>[RBC, RBC, RBC, RBC, RBC, RBC, RBC, RBC, RBC, ...</td>\n",
       "      <td>[[1267, 634, 1398, 758], [1236, 19, 1371, 162]...</td>\n",
       "      <td>[16244, 19305, 17420, 17955, 20160, 22638, 200...</td>\n",
       "    </tr>\n",
       "    <tr>\n",
       "      <th>3</th>\n",
       "      <td>/images/06bbcd42-3ba8-4476-8804-8455f56dd928.jpg</td>\n",
       "      <td>1944</td>\n",
       "      <td>1383</td>\n",
       "      <td>[RBC, RBC, RBC, RBC, RBC, RBC, RBC, RBC, RBC, ...</td>\n",
       "      <td>[[911, 1157, 1050, 1284], [612, 1181, 752, 131...</td>\n",
       "      <td>[17653, 18200, 19176, 17958, 18560, 19845, 210...</td>\n",
       "    </tr>\n",
       "    <tr>\n",
       "      <th>4</th>\n",
       "      <td>/images/0864c569-2ad7-48ed-b12a-e40aa5b93756.jpg</td>\n",
       "      <td>1944</td>\n",
       "      <td>1383</td>\n",
       "      <td>[RBC, RBC, RBC, RBC, RBC, RBC, RBC, RBC, RBC, ...</td>\n",
       "      <td>[[726, 970, 846, 1091], [444, 871, 580, 997], ...</td>\n",
       "      <td>[14520, 17136, 12543, 14157, 14280, 19684, 178...</td>\n",
       "    </tr>\n",
       "  </tbody>\n",
       "</table>\n",
       "</div>"
      ],
      "text/plain": [
       "                                           pathname  width  height  \\\n",
       "0  /images/010961af-b38c-49de-aca0-e3732d73d414.jpg   1944    1383   \n",
       "1  /images/0346611b-ea43-45bd-9f16-c6e8086273d2.jpg   1944    1383   \n",
       "2  /images/03be08c8-2cf3-4de6-8ac6-5f7817a6a643.jpg   1944    1383   \n",
       "3  /images/06bbcd42-3ba8-4476-8804-8455f56dd928.jpg   1944    1383   \n",
       "4  /images/0864c569-2ad7-48ed-b12a-e40aa5b93756.jpg   1944    1383   \n",
       "\n",
       "                                               label  \\\n",
       "0  [RBC, RBC, RBC, RBC, RBC, RBC, RBC, RBC, RBC, ...   \n",
       "1  [RBC, RBC, RBC, RBC, RBC, RBC, RBC, RBC, RBC, ...   \n",
       "2  [RBC, RBC, RBC, RBC, RBC, RBC, RBC, RBC, RBC, ...   \n",
       "3  [RBC, RBC, RBC, RBC, RBC, RBC, RBC, RBC, RBC, ...   \n",
       "4  [RBC, RBC, RBC, RBC, RBC, RBC, RBC, RBC, RBC, ...   \n",
       "\n",
       "                                               boxes  \\\n",
       "0  [[534, 437, 663, 565], [1227, 863, 1362, 991],...   \n",
       "1  [[1061, 1222, 1186, 1339], [1171, 385, 1309, 5...   \n",
       "2  [[1267, 634, 1398, 758], [1236, 19, 1371, 162]...   \n",
       "3  [[911, 1157, 1050, 1284], [612, 1181, 752, 131...   \n",
       "4  [[726, 970, 846, 1091], [444, 871, 580, 997], ...   \n",
       "\n",
       "                                                area  \n",
       "0  [16512, 17280, 14399, 17810, 18078, 20010, 180...  \n",
       "1  [14625, 17250, 17780, 17484, 18318, 13688, 174...  \n",
       "2  [16244, 19305, 17420, 17955, 20160, 22638, 200...  \n",
       "3  [17653, 18200, 19176, 17958, 18560, 19845, 210...  \n",
       "4  [14520, 17136, 12543, 14157, 14280, 19684, 178...  "
      ]
     },
     "execution_count": 15,
     "metadata": {},
     "output_type": "execute_result"
    }
   ],
   "source": [
    "import numpy as np\n",
    "grouped = df.groupby('pathname').agg({'width': lambda x: x.iloc[0],\n",
    "                                     'height': lambda x: x.iloc[0],\n",
    "                                     'label': lambda x: list(x),\n",
    "                                     'boxes': lambda x: np.stack(x).tolist(),\n",
    "                                     'area': lambda x: list(x)})\n",
    "grouped = grouped.reset_index()\n",
    "grouped.head()"
   ]
  },
  {
   "cell_type": "code",
   "execution_count": 16,
   "id": "15ce13a4",
   "metadata": {},
   "outputs": [
    {
     "name": "stdout",
     "output_type": "stream",
     "text": [
      "MEAN     :  1383.0\n",
      "MAX VALUE:  1383\n",
      "MIN VALUE:  1383\n",
      "PCTL 25% :  1383.0\n",
      "PCTL 50% :  1383.0\n",
      "PCTL 75% :  1383.0\n"
     ]
    }
   ],
   "source": [
    "heights = grouped.height\n",
    "\n",
    "print('MEAN     : ' , np.mean(heights))\n",
    "print('MAX VALUE: ' , np.amax(heights))\n",
    "print('MIN VALUE: ' , np.amin(heights))\n",
    "print('PCTL 25% : ' , np.percentile(heights, 25))\n",
    "print('PCTL 50% : ' , np.percentile(heights, 50))\n",
    "print('PCTL 75% : ' , np.percentile(heights, 75))"
   ]
  },
  {
   "cell_type": "code",
   "execution_count": 17,
   "id": "416e8789",
   "metadata": {},
   "outputs": [
    {
     "name": "stdout",
     "output_type": "stream",
     "text": [
      "MEAN     :  1944.0\n",
      "MAX VALUE:  1944\n",
      "MIN VALUE:  1944\n",
      "PCTL 25% :  1944.0\n",
      "PCTL 50% :  1944.0\n",
      "PCTL 75% :  1944.0\n"
     ]
    }
   ],
   "source": [
    "widths = grouped.width\n",
    "\n",
    "print('MEAN     : ' , np.mean(widths))\n",
    "print('MAX VALUE: ' , np.amax(widths))\n",
    "print('MIN VALUE: ' , np.amin(widths))\n",
    "print('PCTL 25% : ' , np.percentile(widths, 25))\n",
    "print('PCTL 50% : ' , np.percentile(widths, 50))\n",
    "print('PCTL 75% : ' , np.percentile(widths, 75))"
   ]
  },
  {
   "cell_type": "code",
   "execution_count": 16,
   "id": "0d40b658",
   "metadata": {},
   "outputs": [],
   "source": [
    "grouped.to_csv(\"test.csv\", index=False)"
   ]
  },
  {
   "cell_type": "code",
   "execution_count": 18,
   "id": "bbcfb37c",
   "metadata": {},
   "outputs": [],
   "source": [
    "df.to_csv(\"sparse_test.csv\", index=False)"
   ]
  },
  {
   "cell_type": "code",
   "execution_count": null,
   "id": "a3d6021a",
   "metadata": {},
   "outputs": [],
   "source": []
  }
 ],
 "metadata": {
  "kernelspec": {
   "display_name": "Python 3",
   "language": "python",
   "name": "python3"
  },
  "language_info": {
   "codemirror_mode": {
    "name": "ipython",
    "version": 3
   },
   "file_extension": ".py",
   "mimetype": "text/x-python",
   "name": "python",
   "nbconvert_exporter": "python",
   "pygments_lexer": "ipython3",
   "version": "3.8.8"
  }
 },
 "nbformat": 4,
 "nbformat_minor": 5
}
